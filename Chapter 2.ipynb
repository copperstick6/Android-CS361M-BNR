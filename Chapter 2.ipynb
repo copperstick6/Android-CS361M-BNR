{
 "cells": [
  {
   "cell_type": "markdown",
   "metadata": {},
   "source": [
    "# Android and Model View Controller"
   ]
  },
  {
   "cell_type": "markdown",
   "metadata": {},
   "source": [
    "Let's add more questions. Create a new Questions class for QuizActivity to access."
   ]
  },
  {
   "cell_type": "code",
   "execution_count": 1,
   "metadata": {
    "collapsed": false
   },
   "outputs": [
    {
     "ename": "SyntaxError",
     "evalue": "invalid syntax (<ipython-input-1-b89d4819bf22>, line 1)",
     "output_type": "error",
     "traceback": [
      "\u001b[0;36m  File \u001b[0;32m\"<ipython-input-1-b89d4819bf22>\"\u001b[0;36m, line \u001b[0;32m1\u001b[0m\n\u001b[0;31m    package com.bignerdranch.android.geoquiz;\u001b[0m\n\u001b[0m              ^\u001b[0m\n\u001b[0;31mSyntaxError\u001b[0m\u001b[0;31m:\u001b[0m invalid syntax\n"
     ]
    }
   ],
   "source": [
    "package com.bignerdranch.android.geoquiz;\n",
    "\n",
    "/**\n",
    " * Created by copperstick6 on 2/3/17.\n",
    " */\n",
    "\n",
    "public class Question {\n",
    "    private int mtextId;\n",
    "    private boolean mtrueAnswer;\n",
    "    private Question(int textResId, boolean answerTrue){\n",
    "        this.mtextId = textResId;\n",
    "        this.mtrueAnswer = answerTrue;\n",
    "    }\n",
    "}\n"
   ]
  },
  {
   "cell_type": "markdown",
   "metadata": {},
   "source": [
    "Next, we need to configure Android studio to recognize the m prefix for member variables"
   ]
  }
 ],
 "metadata": {
  "kernelspec": {
   "display_name": "Python 3",
   "language": "python",
   "name": "python3"
  },
  "language_info": {
   "codemirror_mode": {
    "name": "ipython",
    "version": 3
   },
   "file_extension": ".py",
   "mimetype": "text/x-python",
   "name": "python",
   "nbconvert_exporter": "python",
   "pygments_lexer": "ipython3",
   "version": "3.5.3"
  }
 },
 "nbformat": 4,
 "nbformat_minor": 2
}
