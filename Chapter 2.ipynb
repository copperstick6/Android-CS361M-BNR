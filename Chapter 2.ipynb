{
 "cells": [
  {
   "cell_type": "markdown",
   "metadata": {},
   "source": [
    "# Android and Model View Controller"
   ]
  },
  {
   "cell_type": "markdown",
   "metadata": {},
   "source": [
    "Let's add more questions. Create a new Questions class for QuizActivity to access."
   ]
  },
  {
   "cell_type": "code",
   "execution_count": null,
   "metadata": {
    "collapsed": false
   },
   "outputs": [],
   "source": [
    "package com.bignerdranch.android.geoquiz;\n",
    "\n",
    "/**\n",
    " * Created by copperstick6 on 2/3/17.\n",
    " */\n",
    "\n",
    "public class Question {\n",
    "    private int mtextId;\n",
    "    private boolean mtrueAnswer;\n",
    "    private Question(int textResId, boolean answerTrue){\n",
    "        this.mtextId = textResId;\n",
    "        this.mtrueAnswer = answerTrue;\n",
    "    }\n",
    "}\n"
   ]
  },
  {
   "cell_type": "markdown",
   "metadata": {},
   "source": [
    "Next, we need to configure Android studio to recognize the m prefix for member variables. Do that from the Preferences page. This will automatically generate Getter and Setter classes every time it sees an m in the variable name. Next, Generate the Getters and Setters. Your Question class should look like the following:"
   ]
  },
  {
   "cell_type": "code",
   "execution_count": null,
   "metadata": {
    "collapsed": false
   },
   "outputs": [],
   "source": [
    "package com.bignerdranch.android.geoquiz;\n",
    "\n",
    "/**\n",
    " * Created by copperstick6 on 2/3/17.\n",
    " */\n",
    "\n",
    "public class Question {\n",
    "    private int mtextId;\n",
    "    private boolean mtrueAnswer;\n",
    "    private Question(int textResId, boolean answerTrue){\n",
    "        this.mtextId = textResId;\n",
    "        this.mtrueAnswer = answerTrue;\n",
    "    }\n",
    "\n",
    "    public int getMtextId() {\n",
    "        return mtextId;\n",
    "    }\n",
    "\n",
    "    public boolean isMtrueAnswer() {\n",
    "        return mtrueAnswer;\n",
    "    }\n",
    "\n",
    "    public void setMtrueAnswer(boolean mtrueAnswer) {\n",
    "        this.mtrueAnswer = mtrueAnswer;\n",
    "    }\n",
    "\n",
    "    public void setMtextId(int mtextId) {\n",
    "        this.mtextId = mtextId;\n",
    "    }\n",
    "}\n"
   ]
  },
  {
   "cell_type": "markdown",
   "metadata": {},
   "source": [
    "With a model view controller, all objects can be separated into three separate groups, model objects, view objects, or controller objects.  \n",
    "A model object holds the application's data. They are typically used to model the things your app is concerned with, such as the user. Model objects have no knowledge of the user interface.  \n",
    "Model Classes are generally custom classes the developer creates. All model objects in your application compose the model layer.  \n",
    "Our application's model layer includes the Question class.  \n",
    "The View object is how the phone draws things on the screen and how to respond to user input. If you can see it on the screen, it is a view.  \n",
    "An application's view objects make up the view layer. Our application's view layer includes the widges inside activity_quiz.xml  \n",
    "Controller objects are designed to tie the view and model objects together. They contain the application logic and how the controllers respond to various events triggered by the view objects and how to manage the data flow. A controller is typically a subclass of Activity or Fragment or Service.  \n",
    "Our application's controller layer consists of QuizActivity."
   ]
  },
  {
   "cell_type": "markdown",
   "metadata": {
    "collapsed": true
   },
   "source": [
    "## Let's add a list of new questions and also a next button to cycle through our questions"
   ]
  },
  {
   "cell_type": "markdown",
   "metadata": {},
   "source": [
    "Go into activity_quiz.xml and make the following changes for dynamic questions as well as a next button"
   ]
  },
  {
   "cell_type": "code",
   "execution_count": null,
   "metadata": {
    "collapsed": false
   },
   "outputs": [],
   "source": [
    "<LinearLayout xmlns:android=\"http://schemas.android.com/apk/res/android\"\n",
    "    android:layout_width = \"match_parent\"\n",
    "    android:layout_height=\"match_parent\"\n",
    "    android:gravity=\"center\"\n",
    "    android:orientation=\"vertical\"\n",
    "    >\n",
    "    <!-- creating the question TextView !-->\n",
    "    <!-- this is to create dynamic questions !-->\n",
    "    <TextView\n",
    "        android:id=\"@+id/question_text_view\"\n",
    "        android:layout_width=\"wrap_content\"\n",
    "        android:layout_height=\"wrap_content\"\n",
    "        android:padding=\"24dp\"\n",
    "        />\n",
    "\n",
    "    <!-- Changing the LinearLayout to order the buttons horizontally !-->\n",
    "    <LinearLayout\n",
    "        android:layout_width=\"wrap_content\"\n",
    "        android:layout_height=\"wrap_content\"\n",
    "        android:orientation = \"horizontal\">\n",
    "        <!-- Creating the two buttons! !-->\n",
    "\n",
    "        <Button\n",
    "            android:layout_width=\"wrap_content\"\n",
    "            android:layout_height=\"wrap_content\"\n",
    "            android:text=\"@string/true_button\"\n",
    "            android:id=\"@+id/true_button\"\n",
    "            />\n",
    "\n",
    "        <Button\n",
    "            android:id = \"@+id/false_button\"\n",
    "            android:layout_width=\"wrap_content\"\n",
    "            android:layout_height=\"wrap_content\"\n",
    "            android:text=\"@string/false_button\"\n",
    "        />\n",
    "        \n",
    "        <!-- New next button! Hype! !-->\n",
    "        <Button\n",
    "            android:id = \"@+id/next_button\"\n",
    "            android:layout_width=\"wrap_content\"\n",
    "            android:layout_height=\"wrap_content\"\n",
    "            android:text=\"@string/false_button\"\n",
    "            />\n",
    "    </LinearLayout>\n",
    "\n",
    "\n",
    "</LinearLayout>"
   ]
  },
  {
   "cell_type": "markdown",
   "metadata": {
    "collapsed": true
   },
   "source": [
    "We also need to update our strings.xml to add our new next button and new questions"
   ]
  },
  {
   "cell_type": "code",
   "execution_count": null,
   "metadata": {
    "collapsed": false
   },
   "outputs": [],
   "source": [
    "<resources>\n",
    "\n",
    "    <string name=\"app_name\">GeoQuiz</string>\n",
    "\n",
    "    <!-- This is to define the question text !-->\n",
    "    <string name = \"next_button\">Next</string>\n",
    "\n",
    "    <!-- This is to define the button text for both buttons !-->\n",
    "    <string name = \"true_button\">\n",
    "        True\n",
    "    </string>\n",
    "    <string name = \"false_button\">\n",
    "        False\n",
    "    </string>\n",
    "    <string name = \"correct_toast\">Correct!</string>\n",
    "    <string name = \"incorrect_toast\">Incorrect!</string>\n",
    "    <string name = \"question_oceans\">The Pacific Ocean is larger than the Atlantic Ocean.</string>\n",
    "    <string name = \"question_mideast\">The Suez Canal connects the Red Sea and the Indian Ocean.</string>\n",
    "    <string name = \"question_africa\">The source of the Nile River is in Egypt.</string>\n",
    "    <string name = \"question_americas\">The Amazon River is the longest river in the Americas</string>\n",
    "    <string name = \"question_asia\">Lake Baikal is the world\\'s oldest and deepest freshwater lake</string>\n",
    "</resources>\n"
   ]
  },
  {
   "cell_type": "markdown",
   "metadata": {},
   "source": [
    "We also have to create a new question bank with new Question objects"
   ]
  },
  {
   "cell_type": "code",
   "execution_count": null,
   "metadata": {
    "collapsed": false
   },
   "outputs": [],
   "source": [
    "package com.bignerdranch.android.geoquiz;\n",
    "\n",
    "import android.support.v7.app.AppCompatActivity;\n",
    "import android.os.Bundle;\n",
    "import android.view.View;\n",
    "import android.widget.Button;\n",
    "import android.widget.TextView;\n",
    "import android.widget.Toast;\n",
    "\n",
    "public class QuizActivity extends AppCompatActivity {\n",
    "\n",
    "    private Button trueButton;\n",
    "    private Button falseButton;\n",
    "    private Button nextButton;\n",
    "    private TextView mQuestionTextView;\n",
    "    private Question[] questionBank = new Question[]{new Question(R.string.question_oceans, true),\n",
    "                                                    new Question(R.string.question_africa, false),\n",
    "                                                    new Question(R.string.question_mideast, false),\n",
    "                                                    new Question(R.string.question_americas, true),\n",
    "                                                    new Question(R.string.question_asia, true)};\n",
    "    private int mCurIndex = 0;\n",
    "\n",
    "\n",
    "    @Override\n",
    "    protected void onCreate(Bundle savedInstanceState) {\n",
    "        super.onCreate(savedInstanceState);\n",
    "        setContentView(R.layout.activity_quiz);\n",
    "\n",
    "        mQuestionTextView = (TextView) findViewById(R.id.question_text_view);\n",
    "        int question = questionBank[mCurIndex].getMtextId();\n",
    "        mQuestionTextView.setText(question);\n",
    "        trueButton = (Button) findViewById(R.id.true_button);\n",
    "        trueButton.setOnClickListener(new View.OnClickListener() {\n",
    "            @Override\n",
    "            public void onClick(View v) {\n",
    "                Toast.makeText(QuizActivity.this, R.string.correct_toast, Toast.LENGTH_SHORT).show();\n",
    "\n",
    "\n",
    "            }\n",
    "        });\n",
    "        nextButton = (Button) findViewById(R.id.next_button);\n",
    "        nextButton.setOnClickListener(new View.OnClickListener(){\n",
    "            @Override\n",
    "            public void onClick(View v){\n",
    "                mCurIndex= (mCurIndex + 1) % questionBank.length;\n",
    "                int question = questionBank[mCurIndex].getMtextId();\n",
    "                mQuestionTextView.setText(question);\n",
    "\n",
    "            }\n",
    "        });\n",
    "\n",
    "        falseButton = (Button) findViewById(R.id.false_button);\n",
    "        falseButton.setOnClickListener(new View.OnClickListener() {\n",
    "            @Override\n",
    "            public void onClick(View v) {\n",
    "                Toast.makeText(QuizActivity.this, R.string.incorrect_toast, Toast.LENGTH_SHORT).show();\n",
    "\n",
    "\n",
    "            }\n",
    "        });\n",
    "    }\n",
    "\n",
    "}"
   ]
  },
  {
   "cell_type": "markdown",
   "metadata": {},
   "source": [
    "I'm actually going to consolidate the code a little bit. In both the onClick and in our buttons, we create go to the next index in the array of questions. I'm just going to make a separate method that does that and call it."
   ]
  },
  {
   "cell_type": "code",
   "execution_count": null,
   "metadata": {
    "collapsed": false
   },
   "outputs": [],
   "source": [
    "public class QuizActivity extends AppCompatActivity {\n",
    "\n",
    "    private Button trueButton;\n",
    "    private Button falseButton;\n",
    "    private Button nextButton;\n",
    "    private TextView mQuestionTextView;\n",
    "    private Question[] questionBank = new Question[]{new Question(R.string.question_oceans, true),\n",
    "                                                    new Question(R.string.question_africa, false),\n",
    "                                                    new Question(R.string.question_mideast, false),\n",
    "                                                    new Question(R.string.question_americas, true),\n",
    "                                                    new Question(R.string.question_asia, true)};\n",
    "    private int mCurIndex = 0;\n",
    "\n",
    "\n",
    "    @Override\n",
    "    protected void onCreate(Bundle savedInstanceState) {\n",
    "        super.onCreate(savedInstanceState);\n",
    "        setContentView(R.layout.activity_quiz);\n",
    "\n",
    "        mQuestionTextView = (TextView) findViewById(R.id.question_text_view);\n",
    "        \n",
    "        trueButton = (Button) findViewById(R.id.true_button);\n",
    "        trueButton.setOnClickListener(new View.OnClickListener() {\n",
    "            @Override\n",
    "            public void onClick(View v) {\n",
    "                Toast.makeText(QuizActivity.this, R.string.correct_toast, Toast.LENGTH_SHORT).show();\n",
    "\n",
    "\n",
    "            }\n",
    "        });\n",
    "        nextButton = (Button) findViewById(R.id.next_button);\n",
    "        nextButton.setOnClickListener(new View.OnClickListener(){\n",
    "            @Override\n",
    "            public void onClick(View v){\n",
    "                mCurIndex= (mCurIndex + 1) % questionBank.length;\n",
    "                updateQuestion();\n",
    "\n",
    "            }\n",
    "        });\n",
    "\n",
    "        falseButton = (Button) findViewById(R.id.false_button);\n",
    "        falseButton.setOnClickListener(new View.OnClickListener() {\n",
    "            @Override\n",
    "            public void onClick(View v) {\n",
    "                Toast.makeText(QuizActivity.this, R.string.incorrect_toast, Toast.LENGTH_SHORT).show();\n",
    "\n",
    "\n",
    "            }\n",
    "        });\n",
    "        updateQuestion();\n",
    "    }\n",
    "    private void updateQuestion(){\n",
    "        int question = questionBank[mCurIndex].getMtextId();\n",
    "        mQuestionTextView.setText(question);\n",
    "    }\n",
    "}"
   ]
  },
  {
   "cell_type": "markdown",
   "metadata": {},
   "source": [
    "Next, we're just going to check if the answer if inputted is correct or not."
   ]
  },
  {
   "cell_type": "code",
   "execution_count": null,
   "metadata": {
    "collapsed": false
   },
   "outputs": [],
   "source": [
    "private void checkAnswer(boolean userPressedTrue){\n",
    "        boolean answerIsTrue = questionBank[mCurIndex].isMtrueAnswer();\n",
    "        int messageResId = 0;\n",
    "        if(userPressedTrue == answerIsTrue){\n",
    "            messageResId = R.string.correct_toast;\n",
    "        }\n",
    "        else\n",
    "            messageResId = R.string.incorrect_toast;\n",
    "        Toast.makeText(this, messageResId, Toast.LENGTH_SHORT).show();\n",
    "    }"
   ]
  },
  {
   "cell_type": "markdown",
   "metadata": {},
   "source": [
    "This snippet of code will check if the answer located within the Question object is the same as the user inputted data. It will then display a toast depending on the answer using the message's stringID that we created in strings.xml."
   ]
  },
  {
   "cell_type": "markdown",
   "metadata": {},
   "source": [
    "Don't forget to update your buttons! If the user presses true or false, pass the answer into the checkAnswer method just to make sure the correct toast is displayed."
   ]
  },
  {
   "cell_type": "code",
   "execution_count": null,
   "metadata": {
    "collapsed": false
   },
   "outputs": [],
   "source": [
    "package com.bignerdranch.android.geoquiz;\n",
    "\n",
    "import android.support.v7.app.AppCompatActivity;\n",
    "import android.os.Bundle;\n",
    "import android.view.View;\n",
    "import android.widget.Button;\n",
    "import android.widget.TextView;\n",
    "import android.widget.Toast;\n",
    "\n",
    "public class QuizActivity extends AppCompatActivity {\n",
    "\n",
    "    private Button trueButton;\n",
    "    private Button falseButton;\n",
    "    private Button nextButton;\n",
    "    private TextView mQuestionTextView;\n",
    "    private Question[] questionBank = new Question[]{new Question(R.string.question_oceans, true),\n",
    "                                                    new Question(R.string.question_africa, false),\n",
    "                                                    new Question(R.string.question_mideast, false),\n",
    "                                                    new Question(R.string.question_americas, true),\n",
    "                                                    new Question(R.string.question_asia, true)};\n",
    "    private int mCurIndex = 0;\n",
    "\n",
    "\n",
    "    @Override\n",
    "    protected void onCreate(Bundle savedInstanceState) {\n",
    "        super.onCreate(savedInstanceState);\n",
    "        setContentView(R.layout.activity_quiz);\n",
    "\n",
    "        mQuestionTextView = (TextView) findViewById(R.id.question_text_view);\n",
    "\n",
    "        trueButton = (Button) findViewById(R.id.true_button);\n",
    "        trueButton.setOnClickListener(new View.OnClickListener() {\n",
    "            @Override\n",
    "            public void onClick(View v) {\n",
    "                checkAnswer(true);\n",
    "\n",
    "\n",
    "            }\n",
    "        });\n",
    "        nextButton = (Button) findViewById(R.id.next_button);\n",
    "        nextButton.setOnClickListener(new View.OnClickListener(){\n",
    "            @Override\n",
    "            public void onClick(View v){\n",
    "                mCurIndex= (mCurIndex + 1) % questionBank.length;\n",
    "                updateQuestion();\n",
    "\n",
    "            }\n",
    "        });\n",
    "\n",
    "        falseButton = (Button) findViewById(R.id.false_button);\n",
    "        falseButton.setOnClickListener(new View.OnClickListener() {\n",
    "            @Override\n",
    "            public void onClick(View v) {\n",
    "                checkAnswer(false);\n",
    "\n",
    "\n",
    "            }\n",
    "        });\n",
    "        updateQuestion();\n",
    "    }\n",
    "    private void updateQuestion(){\n",
    "        int question = questionBank[mCurIndex].getMtextId();\n",
    "        mQuestionTextView.setText(question);\n",
    "    }\n",
    "    private void checkAnswer(boolean userPressedTrue){\n",
    "        boolean answerIsTrue = questionBank[mCurIndex].isMtrueAnswer();\n",
    "        int messageResId = 0;\n",
    "        if(userPressedTrue == answerIsTrue){\n",
    "            messageResId = R.string.correct_toast;\n",
    "        }\n",
    "        else\n",
    "            messageResId = R.string.incorrect_toast;\n",
    "        Toast.makeText(this, messageResId, Toast.LENGTH_SHORT).show();\n",
    "    }\n",
    "}\n"
   ]
  },
  {
   "cell_type": "code",
   "execution_count": null,
   "metadata": {
    "collapsed": true
   },
   "outputs": [],
   "source": []
  }
 ],
 "metadata": {
  "kernelspec": {
   "display_name": "Python 3",
   "language": "python",
   "name": "python3"
  },
  "language_info": {
   "codemirror_mode": {
    "name": "ipython",
    "version": 3
   },
   "file_extension": ".py",
   "mimetype": "text/x-python",
   "name": "python",
   "nbconvert_exporter": "python",
   "pygments_lexer": "ipython3",
   "version": "3.5.3"
  }
 },
 "nbformat": 4,
 "nbformat_minor": 2
}
