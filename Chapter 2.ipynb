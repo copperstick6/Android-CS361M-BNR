{
 "cells": [
  {
   "cell_type": "markdown",
   "metadata": {},
   "source": [
    "# Android and Model View Controller"
   ]
  },
  {
   "cell_type": "markdown",
   "metadata": {},
   "source": [
    "Let's add more questions. Create a new Questions class for QuizActivity to access."
   ]
  },
  {
   "cell_type": "code",
   "execution_count": 1,
   "metadata": {
    "collapsed": false
   },
   "outputs": [
    {
     "ename": "SyntaxError",
     "evalue": "invalid syntax (<ipython-input-1-b89d4819bf22>, line 1)",
     "output_type": "error",
     "traceback": [
      "\u001b[0;36m  File \u001b[0;32m\"<ipython-input-1-b89d4819bf22>\"\u001b[0;36m, line \u001b[0;32m1\u001b[0m\n\u001b[0;31m    package com.bignerdranch.android.geoquiz;\u001b[0m\n\u001b[0m              ^\u001b[0m\n\u001b[0;31mSyntaxError\u001b[0m\u001b[0;31m:\u001b[0m invalid syntax\n"
     ]
    }
   ],
   "source": [
    "package com.bignerdranch.android.geoquiz;\n",
    "\n",
    "/**\n",
    " * Created by copperstick6 on 2/3/17.\n",
    " */\n",
    "\n",
    "public class Question {\n",
    "    private int mtextId;\n",
    "    private boolean mtrueAnswer;\n",
    "    private Question(int textResId, boolean answerTrue){\n",
    "        this.mtextId = textResId;\n",
    "        this.mtrueAnswer = answerTrue;\n",
    "    }\n",
    "}\n"
   ]
  },
  {
   "cell_type": "markdown",
   "metadata": {},
   "source": [
    "Next, we need to configure Android studio to recognize the m prefix for member variables. Do that from the Preferences page. This will automatically generate Getter and Setter classes every time it sees an m in the variable name. Next, Generate the Getters and Setters. Your Question class should look like the following:"
   ]
  },
  {
   "cell_type": "code",
   "execution_count": 2,
   "metadata": {
    "collapsed": false
   },
   "outputs": [
    {
     "ename": "SyntaxError",
     "evalue": "invalid syntax (<ipython-input-2-6ed643db96a4>, line 1)",
     "output_type": "error",
     "traceback": [
      "\u001b[0;36m  File \u001b[0;32m\"<ipython-input-2-6ed643db96a4>\"\u001b[0;36m, line \u001b[0;32m1\u001b[0m\n\u001b[0;31m    package com.bignerdranch.android.geoquiz;\u001b[0m\n\u001b[0m              ^\u001b[0m\n\u001b[0;31mSyntaxError\u001b[0m\u001b[0;31m:\u001b[0m invalid syntax\n"
     ]
    }
   ],
   "source": [
    "package com.bignerdranch.android.geoquiz;\n",
    "\n",
    "/**\n",
    " * Created by copperstick6 on 2/3/17.\n",
    " */\n",
    "\n",
    "public class Question {\n",
    "    private int mtextId;\n",
    "    private boolean mtrueAnswer;\n",
    "    private Question(int textResId, boolean answerTrue){\n",
    "        this.mtextId = textResId;\n",
    "        this.mtrueAnswer = answerTrue;\n",
    "    }\n",
    "\n",
    "    public int getMtextId() {\n",
    "        return mtextId;\n",
    "    }\n",
    "\n",
    "    public boolean isMtrueAnswer() {\n",
    "        return mtrueAnswer;\n",
    "    }\n",
    "\n",
    "    public void setMtrueAnswer(boolean mtrueAnswer) {\n",
    "        this.mtrueAnswer = mtrueAnswer;\n",
    "    }\n",
    "\n",
    "    public void setMtextId(int mtextId) {\n",
    "        this.mtextId = mtextId;\n",
    "    }\n",
    "}\n"
   ]
  },
  {
   "cell_type": "markdown",
   "metadata": {},
   "source": [
    "With a model view controller, all objects can be separated into three separate groups, model objects, view objects, or controller objects.  \n",
    "A model object holds the application's data. They are typically used to model the things your app is concerned with, such as the user. Model objects have no knowledge of the user interface.  \n",
    "Model Classes are generally custom classes the developer creates. All model objects in your application compose the model layer.  \n",
    "Our application's model layer includes the Question class.  \n",
    "The View object is how the phone draws things on the screen and how to respond to user input. If you can see it on the screen, it is a view.  \n",
    "An application's view objects make up the view layer. Our application's view layer includes the widges inside activity_quiz.xml  \n",
    "Controller objects are designed to tie the view and model objects together. They contain the application logic and how the controllers respond to various events triggered by the view objects and how to manage the data flow. A controller is typically a subclass of Activity or Fragment or Service.  \n",
    "Our application's controller layer consists of QuizActivity."
   ]
  },
  {
   "cell_type": "markdown",
   "metadata": {
    "collapsed": true
   },
   "source": [
    "## Let's add a list of new questions and also a next button to cycle through our questions"
   ]
  },
  {
   "cell_type": "markdown",
   "metadata": {},
   "source": [
    "Go into activity_quiz.xml and make the following changes for dynamic questions as well as a next button"
   ]
  },
  {
   "cell_type": "code",
   "execution_count": null,
   "metadata": {
    "collapsed": true
   },
   "outputs": [],
   "source": [
    "<LinearLayout xmlns:android=\"http://schemas.android.com/apk/res/android\"\n",
    "    android:layout_width = \"match_parent\"\n",
    "    android:layout_height=\"match_parent\"\n",
    "    android:gravity=\"center\"\n",
    "    android:orientation=\"vertical\"\n",
    "    >\n",
    "    <!-- creating the question TextView !-->\n",
    "    <!-- this is to create dynamic questions !-->\n",
    "    <TextView\n",
    "        android:id=\"@+id/question_text_view\"\n",
    "        android:layout_width=\"wrap_content\"\n",
    "        android:layout_height=\"wrap_content\"\n",
    "        android:padding=\"24dp\"\n",
    "        />\n",
    "\n",
    "    <!-- Changing the LinearLayout to order the buttons horizontally !-->\n",
    "    <LinearLayout\n",
    "        android:layout_width=\"wrap_content\"\n",
    "        android:layout_height=\"wrap_content\"\n",
    "        android:orientation = \"horizontal\">\n",
    "        <!-- Creating the two buttons! !-->\n",
    "\n",
    "        <Button\n",
    "            android:layout_width=\"wrap_content\"\n",
    "            android:layout_height=\"wrap_content\"\n",
    "            android:text=\"@string/true_button\"\n",
    "            android:id=\"@+id/true_button\"\n",
    "            />\n",
    "\n",
    "        <Button\n",
    "            android:id = \"@+id/false_button\"\n",
    "            android:layout_width=\"wrap_content\"\n",
    "            android:layout_height=\"wrap_content\"\n",
    "            android:text=\"@string/false_button\"\n",
    "        />\n",
    "        \n",
    "        <!-- New next button! Hype! !--\n",
    "        <Button\n",
    "            android:id = \"@+id/next_button\"\n",
    "            android:layout_width=\"wrap_content\"\n",
    "            android:layout_height=\"wrap_content\"\n",
    "            android:text=\"@string/false_button\"\n",
    "            />\n",
    "    </LinearLayout>\n",
    "\n",
    "\n",
    "</LinearLayout>"
   ]
  }
 ],
 "metadata": {
  "kernelspec": {
   "display_name": "Python 3",
   "language": "python",
   "name": "python3"
  },
  "language_info": {
   "codemirror_mode": {
    "name": "ipython",
    "version": 3
   },
   "file_extension": ".py",
   "mimetype": "text/x-python",
   "name": "python",
   "nbconvert_exporter": "python",
   "pygments_lexer": "ipython3",
   "version": "3.5.3"
  }
 },
 "nbformat": 4,
 "nbformat_minor": 2
}
