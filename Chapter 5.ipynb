{
 "cells": [
  {
   "cell_type": "markdown",
   "metadata": {},
   "source": [
    "# Chapter 5"
   ]
  },
  {
   "cell_type": "markdown",
   "metadata": {},
   "source": [
    "We skipped chapters 3 and 4 since it's just debugging... Debugging is useless if you write flawless code xD."
   ]
  },
  {
   "cell_type": "markdown",
   "metadata": {},
   "source": [
    "We're going to implement a new cheating interface that shows the answer. Let's add the new strings for the new buttons we will need to create."
   ]
  },
  {
   "cell_type": "code",
   "execution_count": 1,
   "metadata": {
    "collapsed": false
   },
   "outputs": [
    {
     "ename": "SyntaxError",
     "evalue": "invalid syntax (<ipython-input-1-943db35268e6>, line 1)",
     "output_type": "error",
     "traceback": [
      "\u001b[0;36m  File \u001b[0;32m\"<ipython-input-1-943db35268e6>\"\u001b[0;36m, line \u001b[0;32m1\u001b[0m\n\u001b[0;31m    <resources>\u001b[0m\n\u001b[0m    ^\u001b[0m\n\u001b[0;31mSyntaxError\u001b[0m\u001b[0;31m:\u001b[0m invalid syntax\n"
     ]
    }
   ],
   "source": [
    "<resources>\n",
    "\n",
    "    <string name=\"app_name\">GeoQuiz</string>\n",
    "\n",
    "    <!-- This is to define the question text !-->\n",
    "    <string name = \"next_button\">Next</string>\n",
    "\n",
    "    <!-- This is to define the button text for both buttons !-->\n",
    "    <string name = \"true_button\">\n",
    "        True\n",
    "    </string>\n",
    "    <string name = \"false_button\">\n",
    "        False\n",
    "    </string>\n",
    "    <string name = \"correct_toast\">Correct!</string>\n",
    "    <string name = \"incorrect_toast\">Incorrect!</string>\n",
    "    <string name = \"question_oceans\">The Pacific Ocean is larger than the Atlantic Ocean.</string>\n",
    "    <string name = \"question_mideast\">The Suez Canal connects the Red Sea and the Indian Ocean.</string>\n",
    "    <string name = \"question_africa\">The source of the Nile River is in Egypt.</string>\n",
    "    <string name = \"question_americas\">The Amazon River is the longest river in the Americas</string>\n",
    "    <string name = \"question_asia\">Lake Baikal is the world\\'s oldest and deepest freshwater lake</string>\n",
    "    <string name = \"warning_text\">Are you sure you want to do this?</string>\n",
    "    <string name = \"show_answer_button\">Show Answer</string>\n",
    "    <string name = \"cheat_button\">Cheat!</string>\n",
    "    <string name = \"judgement_toast\">Cheating Ain't cool bruh!</string>\n",
    "</resources>\n"
   ]
  },
  {
   "cell_type": "markdown",
   "metadata": {},
   "source": [
    "We also need to create a new activity. Let's create a new CheatActivity. We're just going to create a new empty Activity."
   ]
  },
  {
   "cell_type": "markdown",
   "metadata": {},
   "source": [
    "We're just going to create a simple activity with text views."
   ]
  }
 ],
 "metadata": {
  "kernelspec": {
   "display_name": "Python 3",
   "language": "python",
   "name": "python3"
  },
  "language_info": {
   "codemirror_mode": {
    "name": "ipython",
    "version": 3
   },
   "file_extension": ".py",
   "mimetype": "text/x-python",
   "name": "python",
   "nbconvert_exporter": "python",
   "pygments_lexer": "ipython3",
   "version": "3.5.3"
  }
 },
 "nbformat": 4,
 "nbformat_minor": 2
}
