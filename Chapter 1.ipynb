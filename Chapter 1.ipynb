{
 "cells": [
  {
   "cell_type": "markdown",
   "metadata": {
    "collapsed": true
   },
   "source": [
    "## App basics"
   ]
  },
  {
   "cell_type": "markdown",
   "metadata": {},
   "source": [
    "Activity is an instance of the Activity class in the Android SDK. All methods that are written to implement functionality into the Android app must be subclasses of Activity."
   ]
  },
  {
   "cell_type": "markdown",
   "metadata": {},
   "source": [
    "A layout defines a set of user interface objects and their position on the screen. A layout is made of definitions written in XML.Each definition is used to create an object on the screen."
   ]
  },
  {
   "cell_type": "markdown",
   "metadata": {},
   "source": [
    "### Layout: The default activity layout"
   ]
  },
  {
   "cell_type": "code",
   "execution_count": null,
   "metadata": {
    "collapsed": false
   },
   "outputs": [],
   "source": [
    "<?xml version=\"1.0\" encoding=\"utf-8\"?>\n",
    "<RelativeLayout xmlns:android=\"http://schemas.android.com/apk/res/android\"\n",
    "    xmlns:tools=\"http://schemas.android.com/tools\"\n",
    "    android:id=\"@+id/activity_quiz\"\n",
    "    android:layout_width=\"match_parent\"\n",
    "    android:layout_height=\"match_parent\"\n",
    "    android:paddingBottom=\"@dimen/activity_vertical_margin\"\n",
    "    android:paddingLeft=\"@dimen/activity_horizontal_margin\"\n",
    "    android:paddingRight=\"@dimen/activity_horizontal_margin\"\n",
    "    android:paddingTop=\"@dimen/activity_vertical_margin\"\n",
    "    tools:context=\"com.bignerdranch.android.geoquiz.QuizActivity\">\n",
    "\n",
    "    <TextView\n",
    "        android:layout_width=\"wrap_content\"\n",
    "        android:layout_height=\"wrap_content\"\n",
    "        android:text=\"Hello World!\" />\n",
    "</RelativeLayout>\n"
   ]
  },
  {
   "cell_type": "markdown",
   "metadata": {},
   "source": [
    "The default layout defines two widgets, a relative layout, as defined by RelativeLayout tags, as well as a TextView widgets which is embedded within RelativeLayout.\n"
   ]
  },
  {
   "cell_type": "markdown",
   "metadata": {},
   "source": [
    "Widgets are the building blocks in which you configure to get the appearance or the behavior you want. Every widget is an instance of the View class or one of its subclasses."
   ]
  },
  {
   "cell_type": "code",
   "execution_count": null,
   "metadata": {
    "collapsed": false
   },
   "outputs": [],
   "source": [
    "<LinearLayout xmlns:android=\"http://schemas.android.com/apk/res/android\"\n",
    "    android:layout_width = \"match_parent\"\n",
    "    android:layout_height=\"match_parent\"\n",
    "    android:gravity=\"center\"\n",
    "    android:orientation=\"vertical\"\n",
    "    >\n",
    "    <TextView\n",
    "        android:layout_width=\"wrap_content\"\n",
    "        android:layout_height=\"wrap_content\"\n",
    "        android:padding=\"24dp\"\n",
    "        android:text=\"@string/question_text\"\n",
    "    />\n",
    "    <LinearLayout\n",
    "        android:layout_width=\"wrap_content\"\n",
    "        android:layout_height=\"wrap_content\"\n",
    "        android:orientation = \"horizontal\">\n",
    "\n",
    "        <Button\n",
    "            android:layout_width=\"wrap_content\"\n",
    "            android:layout_height=\"wrap_content\"\n",
    "            android:text=\"@string/true_button\"\n",
    "        />\n",
    "        <Button\n",
    "        android:layout_width=\"wrap_content\"\n",
    "        android:layout_height=\"wrap_content\"\n",
    "        android:text=\"@string/false_button\"\n",
    "        />\n",
    "\n",
    "    </LinearLayout>\n",
    "\n",
    "\n",
    "</LinearLayout>"
   ]
  },
  {
   "cell_type": "markdown",
   "metadata": {},
   "source": [
    "Each widget has a set of corresponding XML attributes. Each attribute describes how the widget will be configured."
   ]
  },
  {
   "cell_type": "markdown",
   "metadata": {},
   "source": [
    "Each widget exists in a View hierarchy, as it widgets are subclasses of the View object. The root subclass in this hierarchy is the **LinearLayout**. This element specifies the Android resource XML, as it is the root element.\n",
    "\n",
    "LinearLayout inherits from a subclass of View named ViewGroup. A ViewGroup is a widget that contains and arranges other widgets. A LinearLayout is used whenever you want a widget arranged in a single column or row. A RelativeLayout is utilized if you want objects arranged in a position relative to each other.\n",
    "\n",
    "When a widget is contained within a ViewGroup, such as the TextView within the first LinearLayout, it is said to be a child of the ViewGroup. The root LinearLayout has two children, a TextView and a LinearLayout, Those two widgets are inside the root LinearLayout's ViewGroup. The second nested LinearLayout has two children, both of which are button. These two buttons can be said to be a part of that LinearLayout's ViewGroup."
   ]
  },
  {
   "cell_type": "markdown",
   "metadata": {},
   "source": []
  }
 ],
 "metadata": {
  "kernelspec": {
   "display_name": "Python 3",
   "language": "python",
   "name": "python3"
  },
  "language_info": {
   "codemirror_mode": {
    "name": "ipython",
    "version": 3
   },
   "file_extension": ".py",
   "mimetype": "text/x-python",
   "name": "python",
   "nbconvert_exporter": "python",
   "pygments_lexer": "ipython3",
   "version": "3.5.3"
  }
 },
 "nbformat": 4,
 "nbformat_minor": 2
}
