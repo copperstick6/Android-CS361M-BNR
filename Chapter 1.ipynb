{
 "cells": [
  {
   "cell_type": "markdown",
   "metadata": {
    "collapsed": true
   },
   "source": [
    "## App basics"
   ]
  },
  {
   "cell_type": "markdown",
   "metadata": {},
   "source": [
    "Activity is an instance of the Activity class in the Android SDK. All methods that are written to implement functionality into the Android app must be subclasses of Activity."
   ]
  },
  {
   "cell_type": "markdown",
   "metadata": {},
   "source": [
    "A layout defines a set of user interface objects and their position on the screen. A layout is made of definitions written in XML.Each definition is used to create an object on the screen."
   ]
  },
  {
   "cell_type": "markdown",
   "metadata": {},
   "source": [
    "### Layout: The default activity layout"
   ]
  },
  {
   "cell_type": "code",
   "execution_count": null,
   "metadata": {
    "collapsed": false
   },
   "outputs": [],
   "source": [
    "<?xml version=\"1.0\" encoding=\"utf-8\"?>\n",
    "<RelativeLayout xmlns:android=\"http://schemas.android.com/apk/res/android\"\n",
    "    xmlns:tools=\"http://schemas.android.com/tools\"\n",
    "    android:id=\"@+id/activity_quiz\"\n",
    "    android:layout_width=\"match_parent\"\n",
    "    android:layout_height=\"match_parent\"\n",
    "    android:paddingBottom=\"@dimen/activity_vertical_margin\"\n",
    "    android:paddingLeft=\"@dimen/activity_horizontal_margin\"\n",
    "    android:paddingRight=\"@dimen/activity_horizontal_margin\"\n",
    "    android:paddingTop=\"@dimen/activity_vertical_margin\"\n",
    "    tools:context=\"com.bignerdranch.android.geoquiz.QuizActivity\">\n",
    "\n",
    "    <TextView\n",
    "        android:layout_width=\"wrap_content\"\n",
    "        android:layout_height=\"wrap_content\"\n",
    "        android:text=\"Hello World!\" />\n",
    "</RelativeLayout>\n"
   ]
  },
  {
   "cell_type": "markdown",
   "metadata": {},
   "source": [
    "The default layout defines two widgets, a relative layout, as defined by RelativeLayout tags, as well as a TextView widgets which is embedded within RelativeLayout.\n"
   ]
  },
  {
   "cell_type": "markdown",
   "metadata": {},
   "source": [
    "Widgets are the building blocks in which you configure to get the appearance or the behavior you want. Every widget is an instance of the View class or one of its subclasses."
   ]
  },
  {
   "cell_type": "markdown",
   "metadata": {},
   "source": [
    "### The layout we will be using"
   ]
  },
  {
   "cell_type": "code",
   "execution_count": null,
   "metadata": {
    "collapsed": false
   },
   "outputs": [],
   "source": [
    "<LinearLayout xmlns:android=\"http://schemas.android.com/apk/res/android\"\n",
    "    android:layout_width = \"match_parent\"\n",
    "    android:layout_height=\"match_parent\"\n",
    "    android:gravity=\"center\"\n",
    "    android:orientation=\"vertical\"\n",
    "    >\n",
    "    <TextView\n",
    "        android:layout_width=\"wrap_content\"\n",
    "        android:layout_height=\"wrap_content\"\n",
    "        android:padding=\"24dp\"\n",
    "        android:text=\"@string/question_text\"\n",
    "    />\n",
    "    <LinearLayout\n",
    "        android:layout_width=\"wrap_content\"\n",
    "        android:layout_height=\"wrap_content\"\n",
    "        android:orientation = \"horizontal\">\n",
    "\n",
    "        <Button\n",
    "            android:layout_width=\"wrap_content\"\n",
    "            android:layout_height=\"wrap_content\"\n",
    "            android:text=\"@string/true_button\"\n",
    "        />\n",
    "        <Button\n",
    "        android:layout_width=\"wrap_content\"\n",
    "        android:layout_height=\"wrap_content\"\n",
    "        android:text=\"@string/false_button\"\n",
    "        />\n",
    "\n",
    "    </LinearLayout>\n",
    "\n",
    "\n",
    "</LinearLayout>"
   ]
  },
  {
   "cell_type": "markdown",
   "metadata": {},
   "source": [
    "Each widget has a set of corresponding XML attributes. Each attribute describes how the widget will be configured."
   ]
  },
  {
   "cell_type": "markdown",
   "metadata": {},
   "source": [
    "Each widget exists in a View hierarchy, as it widgets are subclasses of the View object. The root subclass in this hierarchy is the **LinearLayout**. This element specifies the Android resource XML, as it is the root element.\n",
    "\n",
    "LinearLayout inherits from a subclass of View named ViewGroup. A ViewGroup is a widget that contains and arranges other widgets. A LinearLayout is used whenever you want a widget arranged in a single column or row. A RelativeLayout is utilized if you want objects arranged in a position relative to each other.\n",
    "\n",
    "When a widget is contained within a ViewGroup, such as the TextView within the first LinearLayout, it is said to be a child of the ViewGroup. The root LinearLayout has two children, a TextView and a LinearLayout, Those two widgets are inside the root LinearLayout's ViewGroup. The second nested LinearLayout has two children, both of which are button. These two buttons can be said to be a part of that LinearLayout's ViewGroup."
   ]
  },
  {
   "cell_type": "markdown",
   "metadata": {},
   "source": [
    "# Widget Attributes"
   ]
  },
  {
   "cell_type": "markdown",
   "metadata": {},
   "source": [
    "### Android:layout_width and Android:layout_height"
   ]
  },
  {
   "cell_type": "markdown",
   "metadata": {},
   "source": [
    "These two attributes are required for almost every type of widget. They are typically set to either **match_parent** or **wrap_content**\n",
    "\n",
    "match_parent will make the view as big as its parent\n",
    "\n",
    "wrap_content will make the view as big as its contents require\n",
    "\n",
    "*You might find fill_parent in some older versions of Android. It is the equivalent to match_parent*\n",
    "\n",
    "For the root, LinearLayout, we utilize match_parent in order to match the parent, the view that Android provides for the app to live in (i.e. your screen).\n",
    "\n",
    "The TextView is bigger than the text it displays due to the padding attribute. This allows the text to have a comfortable place and not appear cluttered.\n"
   ]
  },
  {
   "cell_type": "markdown",
   "metadata": {},
   "source": [
    "### Android:orientation"
   ]
  },
  {
   "cell_type": "markdown",
   "metadata": {},
   "source": [
    "The android:orientation attribute on the two LinearLayout widgets determines the orientation of their respective children. The root LinearLayout is vertical, but its child LinearLayout is horizontal.\n",
    "\n",
    "The order in which the widgets are defined defines the order in which they appear on the screen, ordered from left to right if we define the orientation to be horiontal, which we did with the nested LinearLayout, or up down, which is what we did with the root LinearLayout."
   ]
  },
  {
   "cell_type": "markdown",
   "metadata": {},
   "source": [
    "### Android:text"
   ]
  },
  {
   "cell_type": "markdown",
   "metadata": {},
   "source": [
    "The TextView and Button elements both have android:text attributes. This tells the widgets what to display. The values of these attributes are not String literals but rather a reference to a string resource. These resources exist inside a separate XML file called strings file. \n",
    "\n",
    "You could theoretically hardcode the values, but that is usually not a great idea. Referencing them makes localization easy.\n",
    "\n",
    "The references to these string literals don't exist yet, so let's create them."
   ]
  },
  {
   "cell_type": "code",
   "execution_count": null,
   "metadata": {
    "collapsed": true
   },
   "outputs": [],
   "source": [
    "<resources>\n",
    "    <string name=\"app_name\">GeoQuiz</string>\n",
    "    \n",
    "    <string name =\"question_text\">\n",
    "        Constantinople is the largest city in Turkey\n",
    "    </string>\n",
    "    <string name = \"true_button\">\n",
    "        True\n",
    "    </string>\n",
    "    <string name = \"false_button\">\n",
    "        False\n",
    "    </string>\n",
    "</resources>\n"
   ]
  },
  {
   "cell_type": "markdown",
   "metadata": {},
   "source": [
    "Modify the strings.xml file (app/res/values/strings.xml). This should define the text to be displayed. Now you can preview the layout to make sure that the changes you implemented don't have any issues."
   ]
  },
  {
   "cell_type": "markdown",
   "metadata": {},
   "source": [
    "## From layout XML to View objects"
   ]
  },
  {
   "cell_type": "markdown",
   "metadata": {},
   "source": [
    "When the project was created, a subclass of the Activity called QuizActivity was created. The class file is in the app/java directory of your project. It should contain the following:"
   ]
  },
  {
   "cell_type": "code",
   "execution_count": null,
   "metadata": {
    "collapsed": true
   },
   "outputs": [],
   "source": [
    "package com.bignerdranch.android.geoquiz;\n",
    "\n",
    "import android.support.v7.app.AppCompatActivity;\n",
    "import android.os.Bundle;\n",
    "\n",
    "public class QuizActivity extends AppCompatActivity {\n",
    "\n",
    "    @Override\n",
    "    protected void onCreate(Bundle savedInstanceState) {\n",
    "        super.onCreate(savedInstanceState);\n",
    "        setContentView(R.layout.activity_quiz);\n",
    "    }\n",
    "}\n"
   ]
  },
  {
   "cell_type": "markdown",
   "metadata": {},
   "source": [
    "### Breakdown"
   ]
  },
  {
   "cell_type": "markdown",
   "metadata": {},
   "source": [
    "The class extended **AppCompatActivity** refers to the subclass of Android's Activity class that provides baclwards compatibility for older versions of Android."
   ]
  },
  {
   "cell_type": "markdown",
   "metadata": {},
   "source": [
    "The file has one method within QuizActivity: onCreate.\n",
    "\n",
    "The method is called when an instance of the activity subclass is created. When the activity is created, it needs a iser interface to manage. To get the activity its user interface, you call the following Activity method:\n",
    "\n",
    "public void setContentView(int layoutResID)\n",
    "\n",
    "This method instantiates each widget in the layout file as defined by its attribute, and you can select which layout to instantiate by passing in the resourceID of the layout."
   ]
  },
  {
   "cell_type": "markdown",
   "metadata": {},
   "source": [
    "### Resource IDs"
   ]
  },
  {
   "cell_type": "markdown",
   "metadata": {},
   "source": [
    "A layout is a resource. A resource is a piece of the application that is not code, things like audio and visual files, as well as XML files.\n",
    "\n",
    "All the resources can be found within the app/res directory.\n",
    "\n",
    "To access a resource code, you use the resourceID. The resourceID for the currrent layout is **R.layout.activity_quiz**.\n",
    "\n",
    "To see the current resource IDs for the project, you must first change the project view. The default view is the Android view. Change this to the Project view.\n",
    "\n",
    "You will see a huge file. Within one of these classes, the button, layout and other user defined widgets are defined with a different ID. Android, by default, generated unique IDs for each of these objects. \n",
    "\n",
    "However, to generate a resourceID, add an adroid:id attribute to each object within the activity_quiz.xml file."
   ]
  },
  {
   "cell_type": "code",
   "execution_count": null,
   "metadata": {
    "collapsed": true
   },
   "outputs": [],
   "source": [
    "<LinearLayout xmlns:android=\"http://schemas.android.com/apk/res/android\"\n",
    "    android:layout_width = \"match_parent\"\n",
    "    android:layout_height=\"match_parent\"\n",
    "    android:gravity=\"center\"\n",
    "    android:orientation=\"vertical\"\n",
    "    >\n",
    "    <!-- creating the question TextView !-->\n",
    "    <TextView\n",
    "        android:layout_width=\"wrap_content\"\n",
    "        android:layout_height=\"wrap_content\"\n",
    "        android:padding=\"24dp\"\n",
    "        android:text=\"@string/question_text\"\n",
    "        />\n",
    "\n",
    "    <!-- Changing the LinearLayout to order the buttons horizontally !-->\n",
    "    <LinearLayout\n",
    "        android:layout_width=\"wrap_content\"\n",
    "        android:layout_height=\"wrap_content\"\n",
    "        android:orientation = \"horizontal\">\n",
    "\n",
    "        <!-- Creating the two buttons! !-->\n",
    "\n",
    "        <Button\n",
    "            android:layout_width=\"wrap_content\"\n",
    "            android:layout_height=\"wrap_content\"\n",
    "            android:text=\"@string/true_button\"\n",
    "            android:id=\"@+id/true_button\"\n",
    "            />\n",
    "\n",
    "        <Button\n",
    "            android:id = \"@+id/false_button\"\n",
    "            android:layout_width=\"wrap_content\"\n",
    "            android:layout_height=\"wrap_content\"\n",
    "            android:text=\"@string/false_button\"\n",
    "        />\n",
    "\n",
    "    </LinearLayout>\n",
    "\n",
    "\n",
    "</LinearLayout>"
   ]
  },
  {
   "cell_type": "markdown",
   "metadata": {},
   "source": [
    "Note that when referencing a string in **android:text** and creating a new ID in **android:id**, there s a + sign in the assigned value to android:id. That is because a new ID is being created, rather than referencing a different location, which is the case for the string."
   ]
  },
  {
   "cell_type": "markdown",
   "metadata": {},
   "source": [
    "### Wiring up the widgets"
   ]
  },
  {
   "cell_type": "code",
   "execution_count": null,
   "metadata": {
    "collapsed": true
   },
   "outputs": [],
   "source": [
    "package com.bignerdranch.android.geoquiz;\n",
    "\n",
    "import android.support.v7.app.AppCompatActivity;\n",
    "import android.os.Bundle;\n",
    "import android.widget.Button;\n",
    "\n",
    "public class QuizActivity extends AppCompatActivity {\n",
    "\n",
    "    private Button trueButton;\n",
    "    private Button falseButton;\n",
    "\n",
    "    @Override\n",
    "    protected void onCreate(Bundle savedInstanceState) {\n",
    "        super.onCreate(savedInstanceState);\n",
    "        setContentView(R.layout.activity_quiz);\n",
    "    }\n",
    "}\n"
   ]
  },
  {
   "cell_type": "markdown",
   "metadata": {},
   "source": [
    "Create two new Button objects, and declare them as private in order to keep the data within this class only. Note that you had to import the Button object. Lots of widgets need imports, because they aren't part of the Java default library.\n",
    "\n",
    "Now we have to wire up the Button widgets. You need to get references to the view objects and then set listeneres to get user actions."
   ]
  },
  {
   "cell_type": "markdown",
   "metadata": {},
   "source": [
    "### Getting references to widgets"
   ]
  },
  {
   "cell_type": "code",
   "execution_count": null,
   "metadata": {
    "collapsed": true
   },
   "outputs": [],
   "source": [
    "package com.bignerdranch.android.geoquiz;\n",
    "\n",
    "import android.support.v7.app.AppCompatActivity;\n",
    "import android.os.Bundle;\n",
    "import android.widget.Button;\n",
    "\n",
    "public class QuizActivity extends AppCompatActivity {\n",
    "\n",
    "    private Button trueButton;\n",
    "    private Button falseButton;\n",
    "\n",
    "    @Override\n",
    "    protected void onCreate(Bundle savedInstanceState) {\n",
    "        super.onCreate(savedInstanceState);\n",
    "        setContentView(R.layout.activity_quiz);\n",
    "\n",
    "        trueButton = (Button) findViewById(R.id.true_button);\n",
    "        falseButton = (Button) findViewById(R.id.false_button);\n",
    "    }\n",
    "}\n"
   ]
  },
  {
   "cell_type": "markdown",
   "metadata": {},
   "source": [
    "Now, in order to do anything with the button, we have to instantiate the Button objects by getting the references to them from the R class. Because Button is a subclass of the View object, it inherits all the methods of the parent methods. Thus, we can cast the View object as a Button object.\n",
    "\n",
    "The findViewById(int id) takes an int as a field. It returns a view method. Below is the formal definition of the method being called:\n",
    "\n",
    "public View findViewById(int id)\n",
    "\n",
    "We can just obtain out resource IDs of our buttons in order to retrieve the objects and assign them to our variables in order to manipulate them."
   ]
  }
 ],
 "metadata": {
  "kernelspec": {
   "display_name": "Python 3",
   "language": "python",
   "name": "python3"
  },
  "language_info": {
   "codemirror_mode": {
    "name": "ipython",
    "version": 3
   },
   "file_extension": ".py",
   "mimetype": "text/x-python",
   "name": "python",
   "nbconvert_exporter": "python",
   "pygments_lexer": "ipython3",
   "version": "3.5.3"
  }
 },
 "nbformat": 4,
 "nbformat_minor": 2
}
